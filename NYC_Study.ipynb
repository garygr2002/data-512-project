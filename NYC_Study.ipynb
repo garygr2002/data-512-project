{
 "cells": [
  {
   "cell_type": "markdown",
   "metadata": {
    "deletable": true,
    "editable": true
   },
   "source": [
    "### TODO: Add more markdown to this file.\n",
    "\n",
    "Add some markdown here.\n",
    "\n",
    "The functions in this notebook have been arranged lexicographcally, which helps me organize complex work in a way that makes sense to me.  I have given a rational for the existence of each function in a markdown cell above its definition, and indicated where and when it can expect to be called.\n",
    "\n",
    "The project has a complex way of managing its IRS data files.  The IRS data files are indexed by ZIP code, but contain data for the entire USA.  On first run, the project code will read the income data for the whole USA, isolate data for the state of New York, then write that out as a separate data file for subsequent use.  Next, the project code will use the ZIP codes obtained from the New York City demographic data to further isolate the New York state income data for *only* the city of New York.  It will also write out **that** for subsequent use.  So isolating the income data for New York City is a two-step process.  Therefore, this method will create four derived csv files in its IRS directory: ny_agi.csv, nyc_agi.csv, nyc_no_agi.csv, and ny_no_agi.csv.  These are: New York State income data w/AGI, New York City income data w/AGI, New York State income data without AGI, and New York City income data without AGI.  If the project code is run more than once, then it will attempt to reuse the derived files that it had previously created.\n",
    "\n",
    "Firstly, here are the imports:"
   ]
  },
  {
   "cell_type": "code",
   "execution_count": 114,
   "metadata": {
    "collapsed": true,
    "deletable": true,
    "editable": true
   },
   "outputs": [],
   "source": [
    "\"\"\"\n",
    "Analysis of New York City Income Data Versus Ethnicity\n",
    "\"\"\"\n",
    "import os\n",
    "\n",
    "import matplotlib.pyplot as plt\n",
    "import matplotlib.lines as lines\n",
    "import matplotlib.ticker as ticker\n",
    "\n",
    "import numpy as np\n",
    "import pandas as pd\n",
    "\n",
    "from sklearn import linear_model"
   ]
  },
  {
   "cell_type": "markdown",
   "metadata": {
    "deletable": true,
    "editable": true
   },
   "source": [
    "Next, I declare constants that will be used throughout the remainder of the code.  These include file names, keys for plotting, column name constants, and file paths."
   ]
  },
  {
   "cell_type": "code",
   "execution_count": 115,
   "metadata": {
    "collapsed": true,
    "deletable": true,
    "editable": true
   },
   "outputs": [],
   "source": [
    "# Declare and initialize file names.\n",
    "DEMOGRAPHICS_FILENAME = 'Demographic_Statistics_By_Zip_Code.csv'\n",
    "NY_WITH_AGI_FILENAME = 'ny_agi.csv'\n",
    "NY_WITHOUT_AGI_FILENAME = 'ny_no_agi.csv'\n",
    "NYC_WITH_AGI_FILENAME = 'nyc_agi.csv'\n",
    "NYC_WITHOUT_AGI_FILENAME = 'nyc_no_agi.csv'\n",
    "WITH_AGI_FILENAME = '15zpallagi.csv'\n",
    "WITHOUT_AGI_FILENAME = '15zpallnoagi.csv'\n",
    "\n",
    "# Declare and initialize dictionary keys for plotting.\n",
    "COLOR_KEY = 'color_key'\n",
    "ETHNICITY_KEY = 'ethnicity_key'\n",
    "LESS_KEY = 'less_key'\n",
    "MORE_KEY = 'more_key'\n",
    "\n",
    "# Declare and initialize demographic data constants.\n",
    "AFRICAN = 'african'\n",
    "CAUCASIAN = 'caucasian'\n",
    "LATINO = 'latino'\n",
    "PCNT_AFRICAN = 'pcnt_african'\n",
    "PCNT_CAUCASIAN = 'pcnt_caucasian'\n",
    "PCNT_LATINO = 'pcnt_latino'\n",
    "STATE = 'NY'\n",
    "ZIP_CODE = 'zip_code'\n",
    "\n",
    "# Declare and initialize no-AGI income data columns\n",
    "AVERAGE_INCOME = 'average_income'\n",
    "RETURN_COUNT = 'number_of_returns'\n",
    "TOTAL_INCOME = 'total_income_thsnds'\n",
    "\n",
    "# Declare and initialize paths.\n",
    "UW_PATH = os.path.join(os.sep, 'home', 'gary', 'UW Data Science',\n",
    "                       'DATA 512', 'Project')\n",
    "PYCHARM_PATH = os.path.join(os.sep, 'home', 'gary',\n",
    "                            'PycharmProjects', 'NYC_Study')\n",
    "PROJECT_PATH = PYCHARM_PATH\n",
    "IRS_PATH = os.path.join(PROJECT_PATH, \"IRS\")\n",
    "NYC_PATH = os.path.join(PROJECT_PATH, \"NYC\")"
   ]
  },
  {
   "cell_type": "markdown",
   "metadata": {},
   "source": [
    "The function create_subset() is called in run_study(), the top level function.  In this function, I create a subset of the entirety of the New York City demographic data.  In the entirety of the demographic data there are columns for all race-based groups in the city.  For the subset, I wish to isolate only two: either African American versus Caucasian, African American versus Latino, or Caucasian versus Latino.  This function does that.  It removes all rows where both groups have zero representatives.  Next, it calculates the number of members of the first group as a fraction of the number of members of both groups, and then calculates the inverse of that.  It returns the thusly created subset."
   ]
  },
  {
   "cell_type": "code",
   "execution_count": 116,
   "metadata": {
    "collapsed": true,
    "deletable": true,
    "editable": true
   },
   "outputs": [],
   "source": [
    "def create_subset(data_frame, count_column_1, count_column_2, pcnt_column_1, pcnt_column_2):\n",
    "    \"\"\"\n",
    "    Creates a subset of a data frame.\n",
    "\n",
    "    :param data_frame: The data frame from which a subset will be drawn\n",
    "    :type data_frame: pandas.core.frame.DataFrame\n",
    "    :param count_column_1: The name of the first column\n",
    "    :type count_column_1: str\n",
    "    :param count_column_2: The name of the second column\n",
    "    :type count_column_2: str\n",
    "    :param pcnt_column_1: The name of the first percent column\n",
    "    :type pcnt_column_1: str\n",
    "    :param pcnt_column_2: The name of the second percent column\n",
    "    :type pcnt_column_2: str\n",
    "    :return: A data frame in which one or both of the values in the first\n",
    "    or second columns is greater than zero, and in which columns for the\n",
    "    fraction of values first versus second, and second versus first have\n",
    "    been added\n",
    "    :rtype: pandas.core.frame.DataFrame\n",
    "    \"\"\"\n",
    "\n",
    "    # Retain only rows where either the value in the first column or the\n",
    "    # value in the second column is greater than zero.\n",
    "    target_value = 0\n",
    "    subset = pd.DataFrame(\n",
    "        data_frame[(data_frame[count_column_1] > target_value) |\n",
    "                   (data_frame[count_column_2] > target_value)])\n",
    "\n",
    "    # Create the two percentage columns and return the resulting data frame.\n",
    "    subset[pcnt_column_1] = determine_percentage(subset[count_column_1],\n",
    "                                                 subset[count_column_2])\n",
    "    subset[pcnt_column_2] = 1. - subset[pcnt_column_1]\n",
    "    return subset"
   ]
  },
  {
   "cell_type": "markdown",
   "metadata": {},
   "source": [
    "The function create_model() is also called directly from run_study(), the top level function.  Given a data frame, the function creates a linear model from the first named column to the second.  Obviously, the given data frame must contained both named columns."
   ]
  },
  {
   "cell_type": "code",
   "execution_count": 117,
   "metadata": {
    "collapsed": true
   },
   "outputs": [],
   "source": [
    "def create_model(data_frame, column_1, column_2):\n",
    "    \"\"\"\n",
    "    Creates a linear model.\n",
    "\n",
    "    :param data_frame: The data frame containing the values to model\n",
    "    :type data_frame: pandas.core.frame.DataFrame\n",
    "    :param column_1: The name of the 'x' column\n",
    "    :type column_1: str\n",
    "    :param column_2: The name of the 'y' column\n",
    "    :type column_2: str\n",
    "    :return: A linear model of the second column by the first\n",
    "    :rtype: sklearn.linear_model.LinearRegression\n",
    "    \"\"\"\n",
    "\n",
    "    # Determine the number of rows in the frame, and create the model.\n",
    "    length = len(data_frame)\n",
    "    model = linear_model.LinearRegression()\n",
    "\n",
    "    # Fit the model and return it.\n",
    "    model.fit(data_frame[column_1].values.reshape(length, 1),\n",
    "              data_frame[column_2].values.reshape(length, 1))\n",
    "    return model"
   ]
  },
  {
   "cell_type": "markdown",
   "metadata": {},
   "source": [
    "The function determine_percentage() is called from create_subset(), which is the function named two code cells above this one.  It is misnamed, because it is not calculating a percentage.  It is really calculating a fraction of the given numerator divided by the sum of the numerator and the 'other'.  There is probably a much more elegant way to do this, but I have been programming in Python for not much more than six months."
   ]
  },
  {
   "cell_type": "code",
   "execution_count": 118,
   "metadata": {
    "collapsed": true
   },
   "outputs": [],
   "source": [
    "def determine_percentage(numerator, other):\n",
    "    \"\"\"\n",
    "    Determines a fraction.\n",
    "\n",
    "    :param numerator: The numerator of the calculation\n",
    "    :type numerator: int\n",
    "    :param other: The values that will be added to the numerator to\n",
    "    calculate the denominator\n",
    "    :type other: int\n",
    "    :return: The fraction of the numerator divided by the sum of the two\n",
    "    arguments\n",
    "    :rtype: int\n",
    "    \"\"\"\n",
    "    return numerator / (numerator + other)"
   ]
  },
  {
   "cell_type": "markdown",
   "metadata": {},
   "source": [
    "The function format_coefficient() is called in run_study(), the top level function.  It is used to format a linear model coefficient so that it can be displayed in the title of a plot.  I have asked for a format with a comma as a thousands separator, and I have rounded the coefficient (or slope) to two places."
   ]
  },
  {
   "cell_type": "code",
   "execution_count": 119,
   "metadata": {
    "collapsed": true
   },
   "outputs": [],
   "source": [
    "def format_coefficient(model):\n",
    "    \"\"\"\n",
    "    Formats the coefficient of a model for display.\n",
    "\n",
    "    :param model: A linear model\n",
    "    :type model: sklearn.linear_model.LinearRegression\n",
    "    :return: The formatted coefficient\n",
    "    :rtype: str\n",
    "    \"\"\"\n",
    "    return \"{:,}\".format(round(model.coef_.tolist()[0][0], 2))"
   ]
  },
  {
   "cell_type": "markdown",
   "metadata": {},
   "source": [
    "The function format_money() is called in the functions plot_lines() and plot_model().  What it's doing is formating the value used in the 'y' axis of the plots for U.S. dollar monetary values.  The values will be shown with a dollar sign, a thousands separator, and no numbers after the decimal point."
   ]
  },
  {
   "cell_type": "code",
   "execution_count": 120,
   "metadata": {
    "collapsed": true
   },
   "outputs": [],
   "source": [
    "def format_money(amount, pos):\n",
    "    \"\"\"\n",
    "    Formats money for the 'y' axis of a plot.\n",
    "\n",
    "    :param amount: The amount\n",
    "    :type amount: int\n",
    "    :param pos: The position argument\n",
    "    :type pos: int\n",
    "    :return: A formatted money string\n",
    "    :rtype: str\n",
    "    \"\"\"\n",
    "    # pylint: disable=unused-argument\n",
    "    return '${:,.0f}'.format(amount)"
   ]
  },
  {
   "cell_type": "markdown",
   "metadata": {},
   "source": [
    "The function format_percentage() is also called in plot_lines() and plot_model().  It is formatting the value used in the 'x' axis of the plots to show percentages (like percent Caucasian versus African American).  The values will be shown with a preceeding '%', and no numbers after the decimal point."
   ]
  },
  {
   "cell_type": "code",
   "execution_count": 121,
   "metadata": {
    "collapsed": true
   },
   "outputs": [],
   "source": [
    "def format_percent(percentage, pos):\n",
    "    \"\"\"\n",
    "    Formats percentages for the 'x' axis of a plot.\n",
    "\n",
    "    :param percentage: The fraction between 0.0 and 1.0\n",
    "    :type percentage: float\n",
    "    :param pos: The position argument\n",
    "    :type pos: int\n",
    "    :return: A formatted percentage string\n",
    "    :rtype: str\n",
    "    \"\"\"\n",
    "    # pylint: disable=unused-argument\n",
    "    return '{:.0f}%'.format(percentage * 100.)"
   ]
  },
  {
   "cell_type": "markdown",
   "metadata": {},
   "source": [
    "The function get_demographics() is called in get_demographic_data().  It is reading the unmodified NYC demographic data from a csv file."
   ]
  },
  {
   "cell_type": "code",
   "execution_count": 122,
   "metadata": {
    "collapsed": true
   },
   "outputs": [],
   "source": [
    "def get_demographics():\n",
    "    \"\"\"\n",
    "    Read demographic data for New York City.\n",
    "\n",
    "    :return: A dataframe with demographic data for New York City.\n",
    "    :rtype: pandas.core.frame.DataFrame\n",
    "    \"\"\"\n",
    "\n",
    "    print(os.path.join(NYC_PATH, DEMOGRAPHICS_FILENAME))\n",
    "    return pd.read_csv(os.path.join(NYC_PATH, DEMOGRAPHICS_FILENAME))"
   ]
  },
  {
   "cell_type": "markdown",
   "metadata": {},
   "source": [
    "The function get_demographic_data() is called form perform_test(), and the top level method, run_study().  It gets and modifies demographic data from New York City."
   ]
  },
  {
   "cell_type": "code",
   "execution_count": 123,
   "metadata": {
    "collapsed": true
   },
   "outputs": [],
   "source": [
    "def get_demographic_data():\n",
    "    \"\"\"\n",
    "    Read demographic data for New York City and modifies it.\n",
    "\n",
    "    :return: A dataframe with demographic data for New York City.\n",
    "    :rtype: pandas.core.frame.DataFrame\n",
    "    \"\"\"\n",
    "    return modify_demographic_data(get_demographics())"
   ]
  },
  {
   "cell_type": "markdown",
   "metadata": {},
   "source": [
    "The function get_income_data_with_agi() is called from perform_test(), and is really a dead end as far the final product of this study goes. See, the IRS data came in two flavors: One, broken down with AGI buckets (e.g., up to \\$25,000, from there to \\$50,000, etc.), the other, unbucketed. I did not know when I began this study whether I would be using the bucketed or unbucketed data, but eventually used the unbucketed. So this function is only used in the perform_test() function that creates some notional statistics and plots. Like the function get_income_data_without_agi(), this function takes a list of ZIP codes. It will use the ZIP codes to screen the income rows to only those given ZIP codes.\n",
    "\n",
    "Note how the function works. It first calls get_ny_with_agi() to get income data just for the state of New York. Then it calls get_nyc_with_agi() to isolate the New York City rows. Lastly, it calls modify_income_data_with_agi() to remove some features, and rename others."
   ]
  },
  {
   "cell_type": "code",
   "execution_count": 124,
   "metadata": {
    "collapsed": true
   },
   "outputs": [],
   "source": [
    "def get_income_data_with_agi(zip_codes):\n",
    "    \"\"\"\n",
    "    Gets income data with AGI for New York City, and modifies it.\n",
    "\n",
    "    :param data_frame: A data frame containing a 'ZIPCODE' field\n",
    "    :type data_frame: pandas.core.frame.DataFrame\n",
    "    :param target_zipcodes: A collection of ZIP codes\n",
    "    :type target_zipcodes: set or list-like\n",
    "    :return: A data frame containing records with only the given ZIP code\n",
    "    values\n",
    "    :rtype: pandas.core.frame.DataFrame\n",
    "    \"\"\"\n",
    "\n",
    "    data_frame = get_ny_with_agi()\n",
    "    data_frame = get_nyc_with_agi(data_frame, zip_codes)\n",
    "    return modify_income_data_with_agi(data_frame)"
   ]
  },
  {
   "cell_type": "markdown",
   "metadata": {},
   "source": [
    "The function get_income_data_without_agi() is called in perform_test() (for notional results), and also in run_study(), the top level function.  It takes a list of ZIP codes to screen the income rows to *only* those given ZIP codes.\n",
    "\n",
    "Note how the function works.  It first calles get_ny_without_agi() to get income data *just* for the state of New York.  Then it calls get_nyc_without_agi() to isolate the New York City rows.  Lastly, it calls modify_income_data_without_agi() to remove some features, and rename others. "
   ]
  },
  {
   "cell_type": "code",
   "execution_count": 125,
   "metadata": {
    "collapsed": true
   },
   "outputs": [],
   "source": [
    "def get_income_data_without_agi(zip_codes):\n",
    "    \"\"\"\n",
    "    Gets income data without AGI for New York city, and modifies it.\n",
    "\n",
    "    :param zip_codes: Only include these ZIP codes\n",
    "    :type zip_codes: list or tuple\n",
    "    :return: A data frame containing records with only the give ZIP code\n",
    "    :rtype: pandas.core.frame.DataFrame\n",
    "    \"\"\"\n",
    "\n",
    "    data_frame = get_ny_without_agi()\n",
    "    data_frame = get_nyc_without_agi(data_frame, zip_codes)\n",
    "    return modify_income_data_without_agi(data_frame)"
   ]
  },
  {
   "cell_type": "markdown",
   "metadata": {},
   "source": [
    "The function get_ny_common() is called by both get_ny_with_agi() and get_ny_without_agi().  It's reading the raw IRS income data for the state of New York, if it exists.  If it doesn't exist, this function is reading the raw IRS income data for the *whole* country, and then isolating the data for the state of New York before writing it out.  In this way the New York state data will not have to be isolated from the whole country more than once."
   ]
  },
  {
   "cell_type": "code",
   "execution_count": 126,
   "metadata": {
    "collapsed": true
   },
   "outputs": [],
   "source": [
    "def get_ny_common(reduced_filename, whole_filename):\n",
    "    \"\"\"\n",
    "    Gets income data for the state of New York.  Writes the existing data frame\n",
    "    if it does not already exist, and returns it.\n",
    "\n",
    "    :param reduced_filename: The name of the New York only data file\n",
    "    :type reduced_filename: str\n",
    "    :param whole_filename: The name of the all-USA data file\n",
    "    :type whole_filename: str\n",
    "    :return: A data frame containing income data only for the state of New York\n",
    "    :rtype: pandas.core.frame.DataFrame\n",
    "    \"\"\"\n",
    "\n",
    "    # Calculate the path of the reduced file.  Does the file already exist?\n",
    "    reduced_filepath = os.path.join(IRS_PATH, reduced_filename)\n",
    "    if os.path.isfile(reduced_filepath):\n",
    "\n",
    "        # The file already exists.  Just read it.\n",
    "        print('New York file already exists...')\n",
    "        data_frame = pd.read_csv(reduced_filepath)\n",
    "\n",
    "    else:\n",
    "\n",
    "        # The file doesn't exist.  Create it.\n",
    "        print('New York file does not exist; creating it...')\n",
    "        data_frame = isolate(reduced_filepath,\n",
    "                             pd.read_csv(os.path.join(IRS_PATH,\n",
    "                                                      whole_filename)),\n",
    "                             STATE)\n",
    "\n",
    "    # Return the read, or newly created data frame.\n",
    "    return data_frame"
   ]
  },
  {
   "cell_type": "markdown",
   "metadata": {},
   "source": [
    "The function get_nyc_common() is called by both get_nyc_with_agi() and get_nyc_without_agi().  It is doing something very similar to get_ny_common() above, except that it is reading IRS income data for New York City, if it exists.  If it doesn't exist, this function is reading the IRS income data for the state of New York (and this was created in get_ny_with_agi(), or get_ny_without_agi()), and then isolating the data for New York City before writing it out.  In this way the New York City data will not have to be isolated from the state of New York more than once."
   ]
  },
  {
   "cell_type": "code",
   "execution_count": 127,
   "metadata": {
    "collapsed": true
   },
   "outputs": [],
   "source": [
    "def get_nyc_common(reduced_filename, data_frame, target_zipcodes,\n",
    "                   zipcode_fieldname='zipcode'):\n",
    "    \"\"\"\n",
    "    Gets income data for the New York City.  Write the existing data frame\n",
    "    if it does not already exist, and returns it.\n",
    "\n",
    "    :param reduced_filename: The name of the New York City only data file\n",
    "    :type reduced_filename: str\n",
    "    :param data_frame: A dataframe containing income data to be screened\n",
    "    :type data_frame: pandas.core.frame.DataFrame\n",
    "    :param target_zipcodes: A collection of ZIP codes\n",
    "    :type target_zipcodes: set or list-like\n",
    "    :param zipcode_fieldname The name of the field in the data frame containing\n",
    "    ZIP codes\n",
    "    :type zipcode_fieldname str\n",
    "    :return: A data frame containing income data only for the New York City\n",
    "    :rtype: pandas.core.frame.DataFrame\n",
    "    \"\"\"\n",
    "\n",
    "    reduced_filepath = os.path.join(IRS_PATH, reduced_filename)\n",
    "    if os.path.isfile(reduced_filepath):\n",
    "\n",
    "        print('New York City file already exists...')\n",
    "        reduced_data_frame = pd.read_csv(reduced_filepath)\n",
    "\n",
    "    else:\n",
    "\n",
    "        print('New York City files does not exist; creating it...')\n",
    "        reduced_data_frame = isolate_nyc(reduced_filepath,\n",
    "                                         data_frame,\n",
    "                                         target_zipcodes,\n",
    "                                         zipcode_fieldname)\n",
    "\n",
    "    return reduced_data_frame"
   ]
  },
  {
   "cell_type": "markdown",
   "metadata": {},
   "source": [
    "The function get_ny_with_agi() is called from get_income_data_with_agi().  As mentioned for get_income_data_with_agi(), this function ends up being a dead end.  I ultimately ended up using the data *without* AGI.  The function gets income data with AGI only for the state of New York.  This function calls get_ny_common() to do its work."
   ]
  },
  {
   "cell_type": "code",
   "execution_count": 128,
   "metadata": {
    "collapsed": true
   },
   "outputs": [],
   "source": [
    "def get_ny_with_agi():\n",
    "    \"\"\"\n",
    "    Gets income data with AGI for the state of New York.  Writes the resulting\n",
    "    data frame if it does not already exist, and returns it.\n",
    "\n",
    "    :return: A data frame containing income data with AGI only for the state of\n",
    "    New York\n",
    "    :rtype: pandas.core.frame.DataFrame\n",
    "    \"\"\"\n",
    "\n",
    "    return get_ny_common(NY_WITH_AGI_FILENAME, WITH_AGI_FILENAME)"
   ]
  },
  {
   "cell_type": "markdown",
   "metadata": {},
   "source": [
    "The function get_ny_without_agi() is called from get_income_data_without_agi().  The function gets income data without AGI only for the state of New York.  This function calls get_ny_common to do its work."
   ]
  },
  {
   "cell_type": "code",
   "execution_count": 129,
   "metadata": {
    "collapsed": true
   },
   "outputs": [],
   "source": [
    "def get_ny_without_agi():\n",
    "    \"\"\"\n",
    "    Gets income data without AGI for the state of New York.  Writes the\n",
    "    resulting data frame if it does not already exist, and returns it.\n",
    "\n",
    "    :return: A data frame containing income data without AGI only for the state\n",
    "    of New York\n",
    "    :rtype: pandas.core.frame.DataFrame\n",
    "    \"\"\"\n",
    "\n",
    "    return get_ny_common(NY_WITHOUT_AGI_FILENAME, WITHOUT_AGI_FILENAME)"
   ]
  },
  {
   "cell_type": "markdown",
   "metadata": {},
   "source": [
    "The function get_nyc_with_agi() is called by get_income_data_with_agi().  As mentioned for get_income_data_with_agi(), this function ends up being a dead end.  I ultimately ended up using the data *without* AGI.  The function gets income data with AGI only for New York City.  This function calls get_nyc_common() to do its work."
   ]
  },
  {
   "cell_type": "code",
   "execution_count": 130,
   "metadata": {
    "collapsed": true
   },
   "outputs": [],
   "source": [
    "def get_nyc_with_agi(data_frame, target_zipcodes):\n",
    "    \"\"\"\n",
    "    Gets income data with AGI for New York City.  Writes the resulting\n",
    "    data frame if it does not already exist, and returns it.\n",
    "\n",
    "    :param data_frame: A data frame containing a 'ZIPCODE' field\n",
    "    :type data_frame: pandas.core.frame.DataFrame\n",
    "    :param target_zipcodes: A collection of ZIP codes\n",
    "    :type target_zipcodes: set or list-like\n",
    "    :return: A data frame containing record with only the given ZIP code\n",
    "    values\n",
    "    :rtype: pandas.core.frame.DataFrame\n",
    "    \"\"\"\n",
    "\n",
    "    return get_nyc_common(NYC_WITH_AGI_FILENAME, data_frame, target_zipcodes)"
   ]
  },
  {
   "cell_type": "markdown",
   "metadata": {},
   "source": [
    "The function get_nyc_without_agi() is called by get_income_data_without_agi().  The function gets income data without AGI only for New York City.  This function calls get_nyc_common() to do its work."
   ]
  },
  {
   "cell_type": "code",
   "execution_count": 131,
   "metadata": {
    "collapsed": true
   },
   "outputs": [],
   "source": [
    "def get_nyc_without_agi(data_frame, target_zipcodes):\n",
    "    \"\"\"\n",
    "    Gets income data without AGI for New York City.  Writes the resulting\n",
    "    data frame if it does not already exist, and returns it.\n",
    "\n",
    "    :param data_frame: A data frame containing a 'ZIPCODE' field\n",
    "    :type data_frame: pandas.core.frame.DataFrame\n",
    "    :param target_zipcodes: A collection of ZIP codes\n",
    "    :type target_zipcodes: set or list-like\n",
    "    :return: A data frame containing record with only the given ZIP code\n",
    "    values\n",
    "    :rtype: pandas.core.frame.DataFrame\n",
    "    \"\"\"\n",
    "\n",
    "    return get_nyc_common(NYC_WITHOUT_AGI_FILENAME, data_frame,\n",
    "                          target_zipcodes, zipcode_fieldname='ZIPCODE')"
   ]
  },
  {
   "cell_type": "markdown",
   "metadata": {},
   "source": [
    "The function isolate() is called by get_ny_common(), and filters rows from the raw income data for the entire USA by state.  In this case, we are just interested in 'NY'.  It writes the result to a derived file so that it can be used subsequently without filtering."
   ]
  },
  {
   "cell_type": "code",
   "execution_count": 132,
   "metadata": {
    "collapsed": true
   },
   "outputs": [],
   "source": [
    "def isolate(output_filepath, data_frame, target_state):\n",
    "    \"\"\"\n",
    "    Isolates records in a data frame.  Records must contain a 'STATE' field.\n",
    "    Writes the resulting data frame to a csv file with a given name, and\n",
    "    returns the data frame.\n",
    "\n",
    "    :param output_filepath: The path to a file where the data frame will be\n",
    "    written\n",
    "    :type output_filepath: str\n",
    "    :param data_frame: A data frame containing a 'STATE' field\n",
    "    :type data_frame: pandas.core.frame.DataFrame\n",
    "    :param target_state: The records in the resulting data frame will only\n",
    "    contain this state value\n",
    "    :type target_state: str\n",
    "    :return: A data frame containing records with only the given state value\n",
    "    :rtype: pandas.core.frame.DataFrame\n",
    "    \"\"\"\n",
    "\n",
    "    reduced_data_frame = data_frame[data_frame.STATE == target_state]\n",
    "    reduced_data_frame.to_csv(output_filepath)\n",
    "    return reduced_data_frame"
   ]
  },
  {
   "cell_type": "markdown",
   "metadata": {},
   "source": [
    "The function isolate_nyc() is called by get_nyc_common(), and filters rows from the raw income data for the state of New York.  It writes the result to a derived file so that it can be used subsequently without filtering."
   ]
  },
  {
   "cell_type": "code",
   "execution_count": 133,
   "metadata": {
    "collapsed": true
   },
   "outputs": [],
   "source": [
    "def isolate_nyc(output_filepath, data_frame, target_zipcodes,\n",
    "                zipcode_fieldname=ZIP_CODE):\n",
    "    \"\"\"\n",
    "    Isolates records in a data frame.  Records must contain a 'ZIPCODE' field.\n",
    "    Writes the resulting data frame to a csv file with a given name, and\n",
    "    returns the reduced data frame.\n",
    "\n",
    "    :param output_filepath: The path to a file where the data frame will be\n",
    "    written\n",
    "    :type output_filepath: str\n",
    "    :param data_frame: A data frame containing a 'ZIPCODE' field\n",
    "    :type data_frame: pandas.core.frame.DataFrame\n",
    "    :param target_zipcodes: A collection of ZIP codes\n",
    "    :type target_zipcodes: set or list-like\n",
    "    :param zipcode_fieldname The name of the field in the data frame containing\n",
    "    ZIP codes\n",
    "    :type zipcode_fieldname str\n",
    "    :return: A data frame containing record with only the given ZIP code\n",
    "    values\n",
    "    :rtype: pandas.core.frame.DataFrame\n",
    "    \"\"\"\n",
    "\n",
    "    reduced_data_frame =\\\n",
    "        data_frame[data_frame[zipcode_fieldname].isin(target_zipcodes)]\n",
    "    reduced_data_frame.to_csv(output_filepath)\n",
    "    return reduced_data_frame"
   ]
  },
  {
   "cell_type": "markdown",
   "metadata": {},
   "source": [
    "The function modify_demographic_data is called from get_demographic_data() (see above).  It removes all but the desired data from a demographic data frame.  It then renames the remainder of the columns."
   ]
  },
  {
   "cell_type": "code",
   "execution_count": 134,
   "metadata": {
    "collapsed": true
   },
   "outputs": [],
   "source": [
    "def modify_demographic_data(data_frame):\n",
    "    \"\"\"\n",
    "    Modifies demographic data.  Retains only required columns, and renames\n",
    "    required columns.\n",
    "\n",
    "    :param data_frame: A data frame with required columns given in the column\n",
    "    map embedded in this function\n",
    "    :type data_frame: pandas.core.frame.DataFrame\n",
    "    :return: A data frame as modified in the description of this method\n",
    "    :rtype: pandas.core.frame.DataFrame\n",
    "    \"\"\"\n",
    "\n",
    "    # Map existing column names to their new names.\n",
    "    column_map = {'JURISDICTION NAME': ZIP_CODE,\n",
    "                  'COUNT PARTICIPANTS': 'participants',\n",
    "                  'COUNT PACIFIC ISLANDER': 'islander',\n",
    "                  'PERCENT PACIFIC ISLANDER': 'pcnt_islander',\n",
    "                  'COUNT HISPANIC LATINO': LATINO,\n",
    "                  'PERCENT HISPANIC LATINO': PCNT_LATINO,\n",
    "                  'COUNT AMERICAN INDIAN': 'native',\n",
    "                  'PERCENT AMERICAN INDIAN': 'pcnt_native',\n",
    "                  'COUNT ASIAN NON HISPANIC': 'asian',\n",
    "                  'PERCENT ASIAN NON HISPANIC': 'pcnt_asian',\n",
    "                  'COUNT WHITE NON HISPANIC': CAUCASIAN,\n",
    "                  'PERCENT WHITE NON HISPANIC': PCNT_CAUCASIAN,\n",
    "                  'COUNT BLACK NON HISPANIC': AFRICAN,\n",
    "                  'PERCENT BLACK NON HISPANIC': PCNT_AFRICAN,\n",
    "                  'COUNT OTHER ETHNICITY': 'other',\n",
    "                  'PERCENT OTHER ETHNICITY': 'pcnt_other',\n",
    "                  'COUNT ETHNICITY UNKNOWN': 'unknown',\n",
    "                  'PERCENT ETHNICITY UNKNOWN': 'pcnt_other',\n",
    "                  'COUNT ETHNICITY TOTAL': 'total',\n",
    "                  'PERCENT ETHNICITY TOTAL': 'pcnt_total'\n",
    "                 }\n",
    "\n",
    "    # Remove all but the key columns in the map.\n",
    "    data_frame = data_frame[list(column_map.keys())]\n",
    "\n",
    "    # Rename the columns, and return the data frame.\n",
    "    data_frame = data_frame.rename(index=str, columns=column_map)\n",
    "    return data_frame"
   ]
  },
  {
   "cell_type": "markdown",
   "metadata": {},
   "source": [
    "The function modify_income_data_with_agi() is called from get_income_data_with_agi().  Like all the functions that deal with income data and AGI, it is a dead end.  It is not used with the actual modeling code, only the perform_test() function that produces some notional results.  The function removes all but the desired data from an income with AGI data frame. It then renames the remainder of the columns. "
   ]
  },
  {
   "cell_type": "code",
   "execution_count": 135,
   "metadata": {
    "collapsed": true
   },
   "outputs": [],
   "source": [
    "def modify_income_data_with_agi(data_frame):\n",
    "    \"\"\"\n",
    "    Modifies income data that has an AGI breakdown.  Retains only required\n",
    "    columns, renames required columns, renames values in the AGI limit\n",
    "    column, and converts the number of returns column from floating point\n",
    "    to integer.\n",
    "\n",
    "    :param data_frame: A data frame with required columns given in the column\n",
    "    map embedded in this function\n",
    "    :type data_frame: pandas.core.frame.DataFrame\n",
    "    :return: A data frame as modified in the description of this method\n",
    "    :rtype: pandas.core.frame.DataFrame\n",
    "    \"\"\"\n",
    "\n",
    "    # Define some column names.\n",
    "    agi_column = 'agi_limit'\n",
    "    returns_column = 'return_count'\n",
    "\n",
    "    # Map existing column names to their new names.\n",
    "    column_map = {'zipcode': ZIP_CODE,\n",
    "                  'agi_stub': agi_column,\n",
    "                  'N1': returns_column}\n",
    "\n",
    "    # Remove all but the key columns in the map.\n",
    "    data_frame = data_frame[list(column_map.keys())]\n",
    "\n",
    "    # Rename the columns.\n",
    "    data_frame = data_frame.rename(index=str, columns=column_map)\n",
    "\n",
    "    # Replace the values in the agi_column with something more meaningful\n",
    "    value_map = {1: '$25,000', 2: '$50,000', 3: '$75,000',\n",
    "                 4: '$100,000', 5: '$200,000', 6: '$infinity'}\n",
    "    for key in value_map.keys():\n",
    "        data_frame[agi_column].replace(key, value_map.get(key), inplace=True)\n",
    "\n",
    "    # Convert the returns_column to integer, and return the data frame.\n",
    "    data_frame[returns_column] = data_frame[returns_column].astype(int)\n",
    "    return data_frame"
   ]
  },
  {
   "cell_type": "markdown",
   "metadata": {},
   "source": [
    "The function modify_income_data_without_agi() is called from get_income_data_without_agi().  It removes all but the desired data from an income without AGI data frame. It then renames the remainder of the columns. "
   ]
  },
  {
   "cell_type": "code",
   "execution_count": 136,
   "metadata": {
    "collapsed": true
   },
   "outputs": [],
   "source": [
    "def modify_income_data_without_agi(data_frame):\n",
    "    \"\"\"\n",
    "    Modifies income data that has no AGI breakdown.  Retains only required\n",
    "    columns, renames required columns, and calculates average income.\n",
    "\n",
    "    :param data_frame: A data frame with required columns given in the column\n",
    "    map embedded in this function\n",
    "    :type data_frame: pandas.core.frame.DataFrame\n",
    "    :return: A data frame as modified in the description of this method\n",
    "    :rtype: pandas.core.frame.DataFrame\n",
    "    \"\"\"\n",
    "\n",
    "    # Define some column names.\n",
    "    average_income_column = 'average_income'\n",
    "    return_count_column = 'number_of_returns'\n",
    "    total_income_column = 'total_income_thsnds'\n",
    "\n",
    "    # Map existing column names to their new names.\n",
    "    column_map = {'ZIPCODE' : ZIP_CODE,\n",
    "                  'N02650' : return_count_column,\n",
    "                  'A02650' : total_income_column}\n",
    "\n",
    "    # Remove all but the key columns in the map.\n",
    "    data_frame = data_frame[list(column_map.keys())]\n",
    "\n",
    "    # Rename the columns.\n",
    "    data_frame = data_frame.rename(index=str, columns=column_map)\n",
    "\n",
    "    # Calculate average total income, and return the data frame.\n",
    "    data_frame[average_income_column] =\\\n",
    "        np.round(data_frame[total_income_column] * 1000. /\\\n",
    "        data_frame[return_count_column], 2)\n",
    "    return data_frame"
   ]
  },
  {
   "cell_type": "markdown",
   "metadata": {},
   "source": [
    "The function perform_test() is called as a top-level function.  It does nothing more than read the data files, and produce some notional results.  It is not actually doing any modeling.  Creation of this function was an intermediate step that needed to be accomplished for a presentation of this work for the final meeting of DATA 512, University of Washington, Autumn, 2017.  In particular, the plot produced in plot_lines() was used as a slide in the presentation.  Again, that plot is notional results, not the real thing."
   ]
  },
  {
   "cell_type": "code",
   "execution_count": 137,
   "metadata": {
    "collapsed": true
   },
   "outputs": [],
   "source": [
    "def perform_test():\n",
    "    \"\"\"\n",
    "    Performs a test of some of the data reading methods, and plotting methods.\n",
    "    :return: A sample significance data set\n",
    "    :rtype: pandas.core.frame.DataFrame\n",
    "    \"\"\"\n",
    "\n",
    "    # Get the fully formatted demographic data and income data.\n",
    "    my_demographics = get_demographic_data()\n",
    "\n",
    "    # income = get_income_data_with_agi(demographics[ZIP_CODE_FEATURE])\n",
    "    my_income = get_income_data_without_agi(my_demographics[ZIP_CODE])\n",
    "\n",
    "    # Print the demographic data.\n",
    "    print(my_demographics)\n",
    "\n",
    "    # Print the income data.\n",
    "    print(my_income)\n",
    "\n",
    "    # Make a sample plot of ethnicities.\n",
    "    groups = ({COLOR_KEY : 'red',\n",
    "               ETHNICITY_KEY : 'African',\n",
    "               LESS_KEY : 100000,\n",
    "               MORE_KEY : 20000},\n",
    "\n",
    "              {COLOR_KEY : 'orange',\n",
    "               ETHNICITY_KEY : 'Asian',\n",
    "               LESS_KEY : 20000,\n",
    "               MORE_KEY : 150000},\n",
    "\n",
    "              {COLOR_KEY : 'blue',\n",
    "               ETHNICITY_KEY : 'Caucasian',\n",
    "               LESS_KEY : 30000,\n",
    "               MORE_KEY : 120000},\n",
    "\n",
    "              {COLOR_KEY : 'green',\n",
    "               ETHNICITY_KEY : 'Hispanic',\n",
    "               LESS_KEY : 70000,\n",
    "               MORE_KEY : 80000})\n",
    "\n",
    "    plot_lines(groups)\n",
    "    signficance = pd.DataFrame({'Ethnicity' : ('African', 'Asian', 'Caucasian', 'Hispanic'),\n",
    "                                'Std. Error' : (0.16014, 0.17214, 0.1801, 0.15142),\n",
    "                                'p-value' : '<2e-16'})\n",
    "    print(signficance)"
   ]
  },
  {
   "cell_type": "markdown",
   "metadata": {},
   "source": [
    "The function plot_lines() is called from perform_test(), and produces a plot with notional results that were initially envisioned for this study."
   ]
  },
  {
   "cell_type": "code",
   "execution_count": 138,
   "metadata": {
    "collapsed": true
   },
   "outputs": [],
   "source": [
    "def plot_lines(ethnicities, minimum_income=0, maximum_income=200000):\n",
    "    \"\"\"\n",
    "    Plots lines associated with income based on ethnic makeup.\n",
    "\n",
    "    :param ethnicities: A list or tuple of dictionaries\n",
    "    :type ethnicities: list or tuple\n",
    "    :return: None\n",
    "    :rtype: None\n",
    "    \"\"\"\n",
    "\n",
    "    # Create a figure, and give it a subplot.\n",
    "    figure = plt.figure(figsize=(10, 5))\n",
    "    subplot = figure.add_subplot(111)\n",
    "\n",
    "    # Create a labels list, and cycle for each ethnicity.\n",
    "    labels = []\n",
    "    for ethnicity in ethnicities:\n",
    "\n",
    "        # Add a label and a line for the first/next ethnicity.\n",
    "        labels.append(ethnicity[ETHNICITY_KEY])\n",
    "        subplot.add_line(line=lines.Line2D((-0.1, 1.1),\n",
    "                                           (ethnicity[LESS_KEY], ethnicity[MORE_KEY]),\n",
    "                                           color=ethnicity[COLOR_KEY]))\n",
    "\n",
    "    # Set suitable limits for the 'x' and 'y' axes.\n",
    "    subplot.set_xlim(0.0, 1.0)\n",
    "    subplot.set_ylim(minimum_income, maximum_income)\n",
    "\n",
    "    # Give each axis an appropriate formatter.\n",
    "    subplot.xaxis.set_major_formatter(ticker.FuncFormatter(format_percent))\n",
    "    subplot.yaxis.set_major_formatter(ticker.FuncFormatter(format_money))\n",
    "\n",
    "    # Give the axes appropriate labels, and give the plot a title.\n",
    "    plt.xlabel('Percent Ethnic Makeup')\n",
    "    plt.ylabel('Average Income')\n",
    "    plt.title('Average Income as a Function of Percent Ethnicity in NYC by ZIP Code')\n",
    "\n",
    "    # Give the plot a legend, and show the plot.\n",
    "    subplot.plot(len(ethnicities))\n",
    "    subplot.legend(labels)\n",
    "    plt.show()"
   ]
  },
  {
   "cell_type": "markdown",
   "metadata": {},
   "source": [
    "The function plot_model() is called from the top level function, run_study() and produces the **real** results as a scatterplot and line plot for the actual models produced for this study."
   ]
  },
  {
   "cell_type": "code",
   "execution_count": 139,
   "metadata": {
    "collapsed": true
   },
   "outputs": [],
   "source": [
    "def plot_model(data_frame, column_1, column_2, model,\n",
    "               x_label, y_label, plot_title):\n",
    "    \"\"\"\n",
    "    Scatterplots percent race to average income, and draws a linear regression\n",
    "    line.\n",
    "\n",
    "    :param data_frame: A data frame containing the named first and second\n",
    "    columns\n",
    "    :type data_frame: pandas.core.frame.DataFrame\n",
    "    :param column_1: The name of the column to be used for 'x' values\n",
    "    :type column_1: str\n",
    "    :param column_2: The name of the column to be used for 'y' values\n",
    "    :type column_2: str\n",
    "    :param model: A linear model that has been fit\n",
    "    :type model: sklearn.linear_model.LinearRegression\n",
    "    :param x_label: The label for the 'x' axis\n",
    "    :type x_label: str\n",
    "    :param y_label: The label for the 'y' axis\n",
    "    :type y_label: str\n",
    "    :param plot_title: The title for the plot\n",
    "    :type plot_title: str\n",
    "    :return: None\n",
    "    :rtype: None\n",
    "    \"\"\"\n",
    "    # pylint: disable=too-many-arguments\n",
    "\n",
    "    # Create a figure and a subplot\n",
    "    figure = plt.figure(figsize=(10, 5))\n",
    "    subplot = figure.add_subplot(111)\n",
    "\n",
    "    # Set the formatters for the 'x' and 'y' axes.\n",
    "    subplot.xaxis.set_major_formatter(ticker.FuncFormatter(format_percent))\n",
    "    subplot.yaxis.set_major_formatter(ticker.FuncFormatter(format_money))\n",
    "\n",
    "    # Scatter plot the values, and create a tuple with the endpoints of\n",
    "    # the plot.\n",
    "    subplot.scatter(data_frame[column_1], data_frame[column_2], color=\"green\")\n",
    "    my_x_ = (0., 1.)\n",
    "\n",
    "    # Make predictions for the endpoints of the plot, and plot the line.\n",
    "    y1_ = model.predict(my_x_[0])\n",
    "    y2_ = model.predict(my_x_[1])\n",
    "    subplot.plot(my_x_, y1_.tolist() + y2_.tolist(), color=\"red\")\n",
    "\n",
    "    # Label the 'x' and 'y' axes.\n",
    "    plt.xlabel(x_label)\n",
    "    plt.ylabel(y_label)\n",
    "\n",
    "    # Label the plot, and show it.\n",
    "    plt.title(plot_title)\n",
    "    plt.show()"
   ]
  },
  {
   "cell_type": "markdown",
   "metadata": {},
   "source": [
    "The function remove_outliers() is called from run_study(), the top level function.  It removes values from a data frame that have values greater than 1.5 below, or 1.5 above the inter-quartile range for a given column name.  I use this function to screen income outliers.  Why?  I believed that income outliers could skew the results.  If very high earning individual (or individuals) exist in any ZIP code, then the median income for that neighborhood may greatly exceed the mean."
   ]
  },
  {
   "cell_type": "code",
   "execution_count": 140,
   "metadata": {
    "collapsed": true
   },
   "outputs": [],
   "source": [
    "def remove_outliers(data_frame, column_name):\n",
    "    \"\"\"\n",
    "    Removes outliers from a data frame.\n",
    "\n",
    "    :param data_frame: The data frame that will be screened\n",
    "    :type data_frame: pandas.core.frame.DataFrame\n",
    "    :param column_name: The column name to examine for outliers\n",
    "    :type column_name: str\n",
    "    :return: A data frame with outliers removed, as defined by the given column\n",
    "    :rtype: pandas.core.frame.DataFrame\n",
    "    \"\"\"\n",
    "\n",
    "    # Calculate the 25th and 75th percentiles and the interquartile distance.\n",
    "    q75, q25 = np.percentile(data_frame[column_name].dropna(), [75, 25])\n",
    "    iqr = q75 - q25\n",
    "\n",
    "    # Determine cutoff points for the outliers.\n",
    "    distance = 1.5\n",
    "    minimum = q25 - (iqr * distance)\n",
    "    maximum = q75 + (iqr * distance)\n",
    "\n",
    "    # Remove the outlier rows.\n",
    "    return pd.DataFrame(data_frame[(data_frame[column_name] >= minimum) &\n",
    "                                   (data_frame[column_name] <= maximum)])"
   ]
  },
  {
   "cell_type": "markdown",
   "metadata": {},
   "source": [
    "The function run_study() runs the show!  It is called outside of any method.  It reads demographic data, and creates subsets for each of African American versus Caucasian, African American versus Latino, and Caucasian versus Latino.  It then reads income data for the New York City ZIP codes, and removes those that are outliers.  It then creates three models, one for each pair of racial groups under study.  It then makes plots that describe the models.  I was not able to develop in time code for Python that gives the model significance, but I did so in R.  For the Caucasian versus African American model, the significance of the slope was 0.00487.  For the Caucasian versus Latino, the signficance was 0.00431.  For the African American versus Latino, the significance was 0.97.  Therefore there are signifant results for all but the African American versus Latino."
   ]
  },
  {
   "cell_type": "code",
   "execution_count": 141,
   "metadata": {
    "collapsed": true
   },
   "outputs": [],
   "source": [
    "def run_study():\n",
    "    \"\"\"\n",
    "    Runs the NYC income study.\n",
    "\n",
    "    :return: None\n",
    "    :rtype: None\n",
    "    \"\"\"\n",
    "\n",
    "    # Get the fully formatted demographic data, and isolate only the desired features.\n",
    "    desired_demographics = [ZIP_CODE, CAUCASIAN, AFRICAN, LATINO]\n",
    "    demographics = get_demographic_data()[desired_demographics]\n",
    "\n",
    "    # Create the subset data frames.\n",
    "    african_vs_caucasian = create_subset(demographics, AFRICAN, CAUCASIAN,\n",
    "                                         PCNT_AFRICAN, PCNT_CAUCASIAN)\n",
    "\n",
    "    african_vs_latino = create_subset(demographics, AFRICAN, LATINO,\n",
    "                                      PCNT_AFRICAN, PCNT_LATINO)\n",
    "\n",
    "    caucasian_vs_latino = create_subset(demographics, CAUCASIAN, LATINO,\n",
    "                                        PCNT_CAUCASIAN, PCNT_LATINO)\n",
    "\n",
    "    # Get the income data only for the ZIP codes that are present in the demographic data.\n",
    "    income = get_income_data_without_agi(demographics[ZIP_CODE])\n",
    "\n",
    "    # Merge income data to the subsets.\n",
    "    african_vs_caucasian = african_vs_caucasian.merge(income, on=ZIP_CODE)\n",
    "    african_vs_latino = african_vs_latino.merge(income, on=ZIP_CODE)\n",
    "    caucasian_vs_latino = caucasian_vs_latino.merge(income, on=ZIP_CODE)\n",
    "\n",
    "    # Remove average income outliers from the merged income data.\n",
    "    african_vs_caucasian_no_outlrs = remove_outliers(african_vs_caucasian, AVERAGE_INCOME)\n",
    "    african_vs_latino_no_outliers = remove_outliers(african_vs_latino, AVERAGE_INCOME)\n",
    "    caucasian_vs_latino_no_outliers = remove_outliers(caucasian_vs_latino, AVERAGE_INCOME)\n",
    "\n",
    "    # Create the models.\n",
    "    african_vs_caucasian_model = \\\n",
    "        create_model(african_vs_caucasian_no_outlrs, PCNT_CAUCASIAN, AVERAGE_INCOME)\n",
    "\n",
    "    caucasian_vs_latino_model = \\\n",
    "        create_model(caucasian_vs_latino_no_outliers, PCNT_CAUCASIAN, AVERAGE_INCOME)\n",
    "\n",
    "    african_vs_latino_model = \\\n",
    "        create_model(african_vs_latino_no_outliers, PCNT_LATINO, AVERAGE_INCOME)\n",
    "\n",
    "    # Make plots.\n",
    "    plot_model(african_vs_caucasian_no_outlrs, PCNT_CAUCASIAN, AVERAGE_INCOME,\n",
    "               african_vs_caucasian_model, \"Percent Caucasian to African American\",\n",
    "               \"Average Income\",\n",
    "               \"Caucasian to African American, Line Slope: \"\n",
    "               \"{}\".format(format_coefficient(african_vs_caucasian_model)))\n",
    "\n",
    "    plot_model(caucasian_vs_latino_no_outliers, PCNT_CAUCASIAN, AVERAGE_INCOME,\n",
    "               caucasian_vs_latino_model, \"Percent Caucasian to Latino\",\n",
    "               \"Average Income\",\n",
    "               \"Caucasian to Latino, Line Slope: \"\n",
    "               \"{}\".format(format_coefficient(caucasian_vs_latino_model)))\n",
    "\n",
    "    plot_model(african_vs_latino_no_outliers, PCNT_LATINO, AVERAGE_INCOME,\n",
    "               african_vs_latino_model, \"Percent Latino to African American\",\n",
    "               \"Average Income\",\n",
    "               \"Latino to African American, Line Slope: \"\n",
    "               \"{}\".format(format_coefficient(african_vs_latino_model)))"
   ]
  },
  {
   "cell_type": "markdown",
   "metadata": {},
   "source": [
    "Calling the function perform_test() produces some statistics, and a notional display of data."
   ]
  },
  {
   "cell_type": "code",
   "execution_count": 142,
   "metadata": {
    "collapsed": false
   },
   "outputs": [
    {
     "name": "stdout",
     "output_type": "stream",
     "text": [
      "/home/gary/PycharmProjects/NYC_Study/NYC/Demographic_Statistics_By_Zip_Code.csv\n",
      "New York file already exists...\n",
      "New York City file already exists...\n",
      "     zip_code  participants  islander  pcnt_islander  latino  pcnt_latino  \\\n",
      "0       10001            44         0           0.00      16         0.36   \n",
      "1       10002            35         0           0.00       1         0.03   \n",
      "2       10003             1         0           0.00       0         0.00   \n",
      "3       10004             0         0           0.00       0         0.00   \n",
      "4       10005             2         0           0.00       0         0.00   \n",
      "5       10006             6         0           0.00       2         0.33   \n",
      "6       10007             1         0           0.00       0         0.00   \n",
      "7       10009             2         0           0.00       0         0.00   \n",
      "8       10010             0         0           0.00       0         0.00   \n",
      "9       10011             3         0           0.00       1         0.33   \n",
      "10      10012             0         0           0.00       0         0.00   \n",
      "11      10013             8         0           0.00       0         0.00   \n",
      "12      10014             0         0           0.00       0         0.00   \n",
      "13      10016            17         0           0.00       9         0.53   \n",
      "14      10017             0         0           0.00       0         0.00   \n",
      "15      10018             3         0           0.00       0         0.00   \n",
      "16      10019             0         0           0.00       0         0.00   \n",
      "17      10020             0         0           0.00       0         0.00   \n",
      "18      10021             0         0           0.00       0         0.00   \n",
      "19      10022             1         0           0.00       0         0.00   \n",
      "20      10023             7         0           0.00       3         0.43   \n",
      "21      10024             4         0           0.00       0         0.00   \n",
      "22      10025            27         0           0.00      15         0.56   \n",
      "23      10026             0         0           0.00       0         0.00   \n",
      "24      10027             7         0           0.00       1         0.14   \n",
      "25      10028             0         0           0.00       0         0.00   \n",
      "26      10029            20         0           0.00       4         0.20   \n",
      "27      10030             0         0           0.00       0         0.00   \n",
      "28      10031             0         0           0.00       0         0.00   \n",
      "29      10032            13         0           0.00       9         0.69   \n",
      "..        ...           ...       ...            ...     ...          ...   \n",
      "206     11731             0         0           0.00       0         0.00   \n",
      "207     11798             5         0           0.00       0         0.00   \n",
      "208     11968             0         0           0.00       0         0.00   \n",
      "209     12423            21         0           0.00       0         0.00   \n",
      "210     12428           124         2           0.02       1         0.01   \n",
      "211     12435            55         0           0.00       0         0.00   \n",
      "212     12458             0         0           0.00       0         0.00   \n",
      "213     12466            44         0           0.00       0         0.00   \n",
      "214     12473             0         0           0.00       0         0.00   \n",
      "215     12528            52         0           0.00       0         0.00   \n",
      "216     12701            87         0           0.00       0         0.00   \n",
      "217     12733            13         0           0.00       0         0.00   \n",
      "218     12734           252         0           0.00       0         0.00   \n",
      "219     12737            35         0           0.00       0         0.00   \n",
      "220     12750            37         0           0.00       0         0.00   \n",
      "221     12751             7         0           0.00       0         0.00   \n",
      "222     12754           134         2           0.01       0         0.00   \n",
      "223     12758            82         0           0.00       0         0.00   \n",
      "224     12759            11         0           0.00       0         0.00   \n",
      "225     12763            11         0           0.00       0         0.00   \n",
      "226     12764            64         0           0.00       0         0.00   \n",
      "227     12768            63         0           0.00       0         0.00   \n",
      "228     12779           242         0           0.00       0         0.00   \n",
      "229     12783           201         0           0.00       0         0.00   \n",
      "230     12786             4         0           0.00       0         0.00   \n",
      "231     12788            83         0           0.00       0         0.00   \n",
      "232     12789           272         0           0.00       0         0.00   \n",
      "233     13731            17         0           0.00       0         0.00   \n",
      "234     16091             0         0           0.00       0         0.00   \n",
      "235     20459             0         0           0.00       0         0.00   \n",
      "\n",
      "     native  pcnt_native  asian  pcnt_asian  caucasian  pcnt_caucasian  \\\n",
      "0         0         0.00      3        0.07          1            0.02   \n",
      "1         0         0.00     28        0.80          6            0.17   \n",
      "2         0         0.00      1        1.00          0            0.00   \n",
      "3         0         0.00      0        0.00          0            0.00   \n",
      "4         0         0.00      1        0.50          0            0.00   \n",
      "5         0         0.00      0        0.00          1            0.17   \n",
      "6         0         0.00      1        1.00          0            0.00   \n",
      "7         0         0.00      2        1.00          0            0.00   \n",
      "8         0         0.00      0        0.00          0            0.00   \n",
      "9         0         0.00      0        0.00          0            0.00   \n",
      "10        0         0.00      0        0.00          0            0.00   \n",
      "11        0         0.00      8        1.00          0            0.00   \n",
      "12        0         0.00      0        0.00          0            0.00   \n",
      "13        0         0.00      0        0.00          0            0.00   \n",
      "14        0         0.00      0        0.00          0            0.00   \n",
      "15        0         0.00      3        1.00          0            0.00   \n",
      "16        0         0.00      0        0.00          0            0.00   \n",
      "17        0         0.00      0        0.00          0            0.00   \n",
      "18        0         0.00      0        0.00          0            0.00   \n",
      "19        0         0.00      1        1.00          0            0.00   \n",
      "20        0         0.00      1        0.14          0            0.00   \n",
      "21        0         0.00      0        0.00          3            0.75   \n",
      "22        0         0.00      0        0.00          0            0.00   \n",
      "23        0         0.00      0        0.00          0            0.00   \n",
      "24        0         0.00      1        0.14          0            0.00   \n",
      "25        0         0.00      0        0.00          0            0.00   \n",
      "26        0         0.00      0        0.00          0            0.00   \n",
      "27        0         0.00      0        0.00          0            0.00   \n",
      "28        0         0.00      0        0.00          0            0.00   \n",
      "29        0         0.00      1        0.08          0            0.00   \n",
      "..      ...          ...    ...         ...        ...             ...   \n",
      "206       0         0.00      0        0.00          0            0.00   \n",
      "207       0         0.00      0        0.00          0            0.00   \n",
      "208       0         0.00      0        0.00          0            0.00   \n",
      "209       0         0.00      0        0.00         19            0.90   \n",
      "210       0         0.00      0        0.00        117            0.94   \n",
      "211       0         0.00      0        0.00         50            0.91   \n",
      "212       0         0.00      0        0.00          0            0.00   \n",
      "213       0         0.00      0        0.00         44            1.00   \n",
      "214       0         0.00      0        0.00          0            0.00   \n",
      "215       0         0.00      0        0.00         46            0.88   \n",
      "216       0         0.00      0        0.00         83            0.95   \n",
      "217       0         0.00      0        0.00         13            1.00   \n",
      "218       0         0.00      0        0.00        243            0.96   \n",
      "219       0         0.00      0        0.00         35            1.00   \n",
      "220       0         0.00      0        0.00         37            1.00   \n",
      "221       0         0.00      0        0.00          7            1.00   \n",
      "222       0         0.00      0        0.00        127            0.95   \n",
      "223       0         0.00      0        0.00         76            0.93   \n",
      "224       0         0.00      0        0.00         11            1.00   \n",
      "225       0         0.00      0        0.00         11            1.00   \n",
      "226       0         0.00      0        0.00         62            0.97   \n",
      "227       0         0.00      0        0.00         61            0.97   \n",
      "228       0         0.00      0        0.00        239            0.99   \n",
      "229       2         0.01      0        0.00        195            0.97   \n",
      "230       0         0.00      0        0.00          4            1.00   \n",
      "231       0         0.00      0        0.00         81            0.98   \n",
      "232       0         0.00      0        0.00        262            0.96   \n",
      "233       0         0.00      0        0.00         15            0.88   \n",
      "234       0         0.00      0        0.00          0            0.00   \n",
      "235       0         0.00      0        0.00          0            0.00   \n",
      "\n",
      "     african  pcnt_african  other  pcnt_other  unknown  pcnt_other  total  \\\n",
      "0         21          0.48      3        0.07        0        0.00     44   \n",
      "1          0          0.00      0        0.00        0        0.00     35   \n",
      "2          0          0.00      0        0.00        0        0.00      1   \n",
      "3          0          0.00      0        0.00        0        0.00      0   \n",
      "4          1          0.50      0        0.00        0        0.00      2   \n",
      "5          3          0.50      0        0.00        0        0.00      6   \n",
      "6          0          0.00      0        0.00        0        0.00      1   \n",
      "7          0          0.00      0        0.00        0        0.00      2   \n",
      "8          0          0.00      0        0.00        0        0.00      0   \n",
      "9          1          0.33      1        0.33        0        0.00      3   \n",
      "10         0          0.00      0        0.00        0        0.00      0   \n",
      "11         0          0.00      0        0.00        0        0.00      8   \n",
      "12         0          0.00      0        0.00        0        0.00      0   \n",
      "13         8          0.47      0        0.00        0        0.00     17   \n",
      "14         0          0.00      0        0.00        0        0.00      0   \n",
      "15         0          0.00      0        0.00        0        0.00      3   \n",
      "16         0          0.00      0        0.00        0        0.00      0   \n",
      "17         0          0.00      0        0.00        0        0.00      0   \n",
      "18         0          0.00      0        0.00        0        0.00      0   \n",
      "19         0          0.00      0        0.00        0        0.00      1   \n",
      "20         3          0.43      0        0.00        0        0.00      7   \n",
      "21         0          0.00      0        0.00        1        0.25      4   \n",
      "22        11          0.41      1        0.04        0        0.00     27   \n",
      "23         0          0.00      0        0.00        0        0.00      0   \n",
      "24         4          0.57      1        0.14        0        0.00      7   \n",
      "25         0          0.00      0        0.00        0        0.00      0   \n",
      "26        15          0.75      1        0.05        0        0.00     20   \n",
      "27         0          0.00      0        0.00        0        0.00      0   \n",
      "28         0          0.00      0        0.00        0        0.00      0   \n",
      "29         2          0.15      1        0.08        0        0.00     13   \n",
      "..       ...           ...    ...         ...      ...         ...    ...   \n",
      "206        0          0.00      0        0.00        0        0.00      0   \n",
      "207        5          1.00      0        0.00        0        0.00      5   \n",
      "208        0          0.00      0        0.00        0        0.00      0   \n",
      "209        0          0.00      1        0.05        1        0.05     21   \n",
      "210        0          0.00      4        0.03        0        0.00    124   \n",
      "211        0          0.00      5        0.09        0        0.00     55   \n",
      "212        0          0.00      0        0.00        0        0.00      0   \n",
      "213        0          0.00      0        0.00        0        0.00     44   \n",
      "214        0          0.00      0        0.00        0        0.00      0   \n",
      "215        0          0.00      6        0.12        0        0.00     52   \n",
      "216        0          0.00      2        0.02        2        0.02     87   \n",
      "217        0          0.00      0        0.00        0        0.00     13   \n",
      "218        0          0.00      4        0.02        5        0.02    252   \n",
      "219        0          0.00      0        0.00        0        0.00     35   \n",
      "220        0          0.00      0        0.00        0        0.00     37   \n",
      "221        0          0.00      0        0.00        0        0.00      7   \n",
      "222        0          0.00      4        0.03        1        0.01    134   \n",
      "223        0          0.00      6        0.07        0        0.00     82   \n",
      "224        0          0.00      0        0.00        0        0.00     11   \n",
      "225        0          0.00      0        0.00        0        0.00     11   \n",
      "226        0          0.00      2        0.03        0        0.00     64   \n",
      "227        0          0.00      1        0.02        1        0.02     63   \n",
      "228        0          0.00      3        0.01        0        0.00    242   \n",
      "229        0          0.00      3        0.01        1        0.00    201   \n",
      "230        0          0.00      0        0.00        0        0.00      4   \n",
      "231        0          0.00      2        0.02        0        0.00     83   \n",
      "232        0          0.00      6        0.02        4        0.01    272   \n",
      "233        0          0.00      2        0.12        0        0.00     17   \n",
      "234        0          0.00      0        0.00        0        0.00      0   \n",
      "235        0          0.00      0        0.00        0        0.00      0   \n",
      "\n",
      "     pcnt_total  \n",
      "0           100  \n",
      "1           100  \n",
      "2           100  \n",
      "3             0  \n",
      "4           100  \n",
      "5           100  \n",
      "6           100  \n",
      "7           100  \n",
      "8             0  \n",
      "9            99  \n",
      "10            0  \n",
      "11          100  \n",
      "12            0  \n",
      "13          100  \n",
      "14            0  \n",
      "15          100  \n",
      "16            0  \n",
      "17            0  \n",
      "18            0  \n",
      "19          100  \n",
      "20          100  \n",
      "21          100  \n",
      "22          100  \n",
      "23            0  \n",
      "24           99  \n",
      "25            0  \n",
      "26          100  \n",
      "27            0  \n",
      "28            0  \n",
      "29          100  \n",
      "..          ...  \n",
      "206           0  \n",
      "207         100  \n",
      "208           0  \n",
      "209         100  \n",
      "210         100  \n",
      "211         100  \n",
      "212           0  \n",
      "213         100  \n",
      "214           0  \n",
      "215         100  \n",
      "216          99  \n",
      "217         100  \n",
      "218         100  \n",
      "219         100  \n",
      "220         100  \n",
      "221         100  \n",
      "222         100  \n",
      "223         100  \n",
      "224         100  \n",
      "225         100  \n",
      "226         100  \n",
      "227         100  \n",
      "228         100  \n",
      "229          99  \n",
      "230         100  \n",
      "231         100  \n",
      "232          99  \n",
      "233         100  \n",
      "234           0  \n",
      "235           0  \n",
      "\n",
      "[236 rows x 20 columns]\n",
      "     zip_code  number_of_returns  total_income_thsnds  average_income\n",
      "0       10001            14310.0            2402685.0       167902.52\n",
      "1       10002            43190.0            2334694.0        54056.36\n",
      "2       10003            30050.0            7562151.0       251652.28\n",
      "3       10004             2490.0            1018420.0       409004.02\n",
      "4       10005             6160.0            3812495.0       618911.53\n",
      "5       10006             2430.0             476969.0       196283.54\n",
      "6       10007             3330.0            2011196.0       603962.76\n",
      "7       10009            33710.0            2724414.0        80819.16\n",
      "8       10010            17480.0            4092745.0       234138.73\n",
      "9       10011            30300.0            9613415.0       317274.42\n",
      "10      10012            12860.0            3230640.0       251216.17\n",
      "11      10013            15090.0            6909269.0       457870.71\n",
      "12      10014            19110.0            6451337.0       337589.59\n",
      "13      10016            32430.0            7667563.0       236434.26\n",
      "14      10017            12280.0            5277781.0       429786.73\n",
      "15      10018             6470.0            2567770.0       396873.26\n",
      "16      10019            24850.0            7509844.0       302207.00\n",
      "17      10021            24180.0           13736993.0       568113.85\n",
      "18      10022            20230.0           10529597.0       520494.17\n",
      "19      10023            34100.0           12279193.0       360093.64\n",
      "20      10024            31100.0           10735817.0       345203.12\n",
      "21      10025            46740.0            7222261.0       154519.92\n",
      "22      10026            18400.0            1228290.0        66754.89\n",
      "23      10027            27510.0            1655551.0        60179.97\n",
      "24      10028            25870.0           10655576.0       411889.29\n",
      "25      10029            35450.0            1860767.0        52489.90\n",
      "26      10030            13810.0             557376.0        40360.32\n",
      "27      10031            29730.0            1204815.0        40525.23\n",
      "28      10032            29970.0            1136832.0        37932.33\n",
      "29      10033            27170.0            1227654.0        45184.17\n",
      "..        ...                ...                  ...             ...\n",
      "183     11692             8650.0             349417.0        40395.03\n",
      "184     11693             5700.0             282505.0        49562.28\n",
      "185     11694             8800.0             871535.0        99038.07\n",
      "186     11731            15400.0            1470487.0        95486.17\n",
      "187     11798             8440.0             362315.0        42928.32\n",
      "188     11968             5350.0             687253.0       128458.50\n",
      "189     12423              470.0              22508.0        47889.36\n",
      "190     12428             2630.0             116045.0        44123.57\n",
      "191     12435              190.0               9602.0        50536.84\n",
      "192     12458             1080.0              53979.0        49980.56\n",
      "193     12466             1620.0              91843.0        56693.21\n",
      "194     12473              430.0              23794.0        55334.88\n",
      "195     12528             6690.0             445124.0        66535.72\n",
      "196     12701             4580.0             187555.0        40950.87\n",
      "197     12733              240.0               8166.0        34025.00\n",
      "198     12734              550.0              26130.0        47509.09\n",
      "199     12737              830.0              49367.0        59478.31\n",
      "200     12751              410.0              14966.0        36502.44\n",
      "201     12754             2820.0             130894.0        46416.31\n",
      "202     12758             1690.0              92677.0        54838.46\n",
      "203     12759              700.0              24427.0        34895.71\n",
      "204     12763              340.0              18583.0        54655.88\n",
      "205     12764              720.0              38596.0        53605.56\n",
      "206     12768              440.0              21895.0        49761.36\n",
      "207     12779             1050.0              45649.0        43475.24\n",
      "208     12783              600.0              29475.0        49125.00\n",
      "209     12786              320.0              23173.0        72415.62\n",
      "210     12788              950.0              48224.0        50762.11\n",
      "211     12789              750.0              36207.0        48276.00\n",
      "212     13731              490.0              30561.0        62369.39\n",
      "\n",
      "[213 rows x 4 columns]\n"
     ]
    },
    {
     "data": {
      "image/png": "[encoded data removed]",
      "text/plain": [
       "<matplotlib.figure.Figure at 0x7fad842fef28>"
      ]
     },
     "metadata": {},
     "output_type": "display_data"
    },
    {
     "name": "stdout",
     "output_type": "stream",
     "text": [
      "   Ethnicity  Std. Error p-value\n",
      "0    African     0.16014  <2e-16\n",
      "1      Asian     0.17214  <2e-16\n",
      "2  Caucasian     0.18010  <2e-16\n",
      "3   Hispanic     0.15142  <2e-16\n"
     ]
    }
   ],
   "source": [
    "# Perform the test.\n",
    "perform_test()"
   ]
  },
  {
   "cell_type": "markdown",
   "metadata": {},
   "source": [
    "Let's run this show!"
   ]
  },
  {
   "cell_type": "code",
   "execution_count": 143,
   "metadata": {
    "collapsed": false
   },
   "outputs": [
    {
     "name": "stdout",
     "output_type": "stream",
     "text": [
      "/home/gary/PycharmProjects/NYC_Study/NYC/Demographic_Statistics_By_Zip_Code.csv\n",
      "New York file already exists...\n",
      "New York City file already exists...\n"
     ]
    },
    {
     "data": {
      "image/png": "[encoded data removed]",
      "text/plain": [
       "<matplotlib.figure.Figure at 0x7fad84210128>"
      ]
     },
     "metadata": {},
     "output_type": "display_data"
    },
    {
     "data": {
      "image/png": "[encoded data removed]",
      "text/plain": [
       "<matplotlib.figure.Figure at 0x7fad843107b8>"
      ]
     },
     "metadata": {},
     "output_type": "display_data"
    },
    {
     "data": {
      "image/png": "[encoded data removed]",
      "text/plain": [
       "<matplotlib.figure.Figure at 0x7fad842388d0>"
      ]
     },
     "metadata": {},
     "output_type": "display_data"
    }
   ],
   "source": [
    "# Run the study.\n",
    "\n",
    "run_study()"
   ]
  }
 ],
 "metadata": {
  "kernelspec": {
   "display_name": "Python 3",
   "language": "python",
   "name": "python3"
  },
  "language_info": {
   "codemirror_mode": {
    "name": "ipython",
    "version": 3
   },
   "file_extension": ".py",
   "mimetype": "text/x-python",
   "name": "python",
   "nbconvert_exporter": "python",
   "pygments_lexer": "ipython3",
   "version": "3.6.0"
  }
 },
 "nbformat": 4,
 "nbformat_minor": 0
}
